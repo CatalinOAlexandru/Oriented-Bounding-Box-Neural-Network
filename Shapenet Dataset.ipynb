{
 "cells": [
  {
   "cell_type": "markdown",
   "metadata": {},
   "source": [
    "# Import "
   ]
  },
  {
   "cell_type": "code",
   "execution_count": 1,
   "metadata": {},
   "outputs": [],
   "source": [
    "import sys,os,copy\n",
    "\n",
    "import open3d as o3d\n",
    "import numpy as np\n",
    "import trimesh\n",
    "\n",
    "import matplotlib\n",
    "import matplotlib.pyplot as plt\n",
    "\n",
    "from sklearn.neighbors import KDTree\n",
    "\n",
    "# for fast sparse matrix computation\n",
    "from scipy.sparse import coo_matrix\n",
    "from scipy.sparse.linalg import inv\n",
    "\n",
    "# for colormap\n",
    "import matplotlib.cm as cm\n",
    "from matplotlib.colors import Normalize\n",
    "\n",
    "%load_ext autoreload\n",
    "%autoreload 2\n",
    "%config IPCompleter.greedy=True"
   ]
  },
  {
   "cell_type": "markdown",
   "metadata": {},
   "source": [
    "# Load Data"
   ]
  },
  {
   "cell_type": "code",
   "execution_count": 2,
   "metadata": {},
   "outputs": [],
   "source": [
    "# root directory for ShapeNetSem dataset\n",
    "shapenet_root = \"shapenetsem\"\n",
    "# directory where we save our new dataset\n",
    "data_root = \"shapenet5k\""
   ]
  },
  {
   "cell_type": "code",
   "execution_count": 3,
   "metadata": {},
   "outputs": [],
   "source": [
    "def get_rotation(alpha,beta,gamma):\n",
    "    s_alpha = np.sin(alpha)\n",
    "    c_alpha = np.cos(alpha)\n",
    "    s_beta = np.sin(beta)\n",
    "    c_beta = np.cos(beta)\n",
    "    s_gamma = np.sin(gamma)\n",
    "    c_gamma = np.cos(gamma)\n",
    "    R = np.array([\n",
    "        [c_alpha*c_beta, c_alpha*s_beta*s_gamma - s_alpha*c_gamma, c_alpha*s_beta*c_gamma + s_alpha*s_gamma],\n",
    "        [s_alpha*c_beta, s_alpha*s_beta*s_gamma + c_alpha*c_gamma, s_alpha*s_beta*c_gamma - c_alpha*s_gamma],\n",
    "        [-s_beta, c_beta*s_gamma, c_beta*c_gamma]\n",
    "    ])\n",
    "\n",
    "    return R.T"
   ]
  },
  {
   "cell_type": "code",
   "execution_count": 4,
   "metadata": {},
   "outputs": [],
   "source": [
    "# create an empty directory\n",
    "!mkdir shapenet5k"
   ]
  },
  {
   "cell_type": "code",
   "execution_count": null,
   "metadata": {},
   "outputs": [],
   "source": [
    "# get OBB for all files\n",
    "obb_dict = {}\n",
    "filenames = list(os.listdir(shapenet_root))\n",
    "i = 0\n",
    "for filename in filenames:\n",
    "    if i<1000 and filename.endswith(\".obj\"):\n",
    "        # read the mesh\n",
    "        mesh = o3d.io.read_triangle_mesh(os.path.join(shapenet_root,filename))\n",
    "        # sample points\n",
    "        pcd = mesh.sample_points_uniformly(number_of_points = 5000)\n",
    "        # center\n",
    "        origin = np.zeros((3,1))\n",
    "        pcd.translate(origin,relative=False)\n",
    "        # scale\n",
    "        pts = np.asarray(pcd.points)\n",
    "        dist = np.max(np.sqrt(np.sum(pts**2, axis = 1)),0)\n",
    "        pcd.scale(1/dist,center=origin)\n",
    "\n",
    "        # generate a rotation matrix with uniformly sampled angles\n",
    "        [alpha, beta, gamma] = np.random.uniform(0,np.pi, size = (3))\n",
    "        R = get_rotation(alpha, beta, gamma)\n",
    "        # rotate point cloud\n",
    "        pcd = pcd.rotate(R)\n",
    "        try:\n",
    "            # compute the OBB\n",
    "            obb = pcd.get_oriented_bounding_box()\n",
    "            # append into the dataset\n",
    "            i += 1\n",
    "            new_filename = \"pcd_{}.xyz\".format(i)\n",
    "            obb_dict[new_filename] = {\n",
    "                'center':obb.center.flatten().tolist(),\n",
    "                'extent':obb.extent.flatten().tolist(),\n",
    "                'R':obb.R.flatten().around().tolist()\n",
    "            }\n",
    "            # also save the rotated point clouds\n",
    "            o3d.io.write_point_cloud(os.path.join(data_root,new_filename), pcd)\n",
    "        except:\n",
    "            print('Skipped',filename)"
   ]
  },
  {
   "cell_type": "code",
   "execution_count": 95,
   "metadata": {},
   "outputs": [],
   "source": [
    "# split into train and test\n",
    "filenames = list(obb_dict.keys())\n",
    "n = len(filenames)\n",
    "indices = list(range(n))\n",
    "random.shuffle(indices)\n",
    "# train_set\n",
    "train_indices = indices[:700]\n",
    "train_labels = {filenames[i]:obb_dict[filenames[i]] for i in train_indices}\n",
    "# test set\n",
    "test_indices = indices[-300:]\n",
    "test_labels = {filenames[i]:obb_dict[filenames[i]] for i in test_indices}"
   ]
  },
  {
   "cell_type": "code",
   "execution_count": 75,
   "metadata": {},
   "outputs": [],
   "source": [
    "# save the ground truth OBB vertices\n",
    "import json\n",
    "\n",
    "with open('shapenet_labels.json','w') as fp:\n",
    "    json.dump(obb_dict,fp)"
   ]
  },
  {
   "cell_type": "code",
   "execution_count": 98,
   "metadata": {},
   "outputs": [],
   "source": [
    "# save train and test labels\n",
    "with open('shapenet_train_labels.json','w') as fp:\n",
    "    json.dump(train_labels,fp)\n",
    "\n",
    "with open('shapenet_test_labels.json','w') as fp:\n",
    "    json.dump(test_labels,fp)"
   ]
  },
  {
   "cell_type": "markdown",
   "metadata": {},
   "source": [
    "# Visualization"
   ]
  },
  {
   "cell_type": "code",
   "execution_count": 104,
   "metadata": {},
   "outputs": [],
   "source": [
    "with open(\"shapenet_train_labels.json\", 'r') as fp:\n",
    "    obb_dict = json.load(fp)"
   ]
  },
  {
   "cell_type": "code",
   "execution_count": 100,
   "metadata": {},
   "outputs": [],
   "source": [
    "filenames = list(obb_dict.keys())"
   ]
  },
  {
   "cell_type": "code",
   "execution_count": 101,
   "metadata": {},
   "outputs": [],
   "source": [
    "def visualize(filename,data_root):\n",
    "    filepath = os.path.join(data_root,filename)\n",
    "    pcd = o3d.io.read_point_cloud(filepath)\n",
    "    obb_params = obb_dict[filename]\n",
    "    center = np.array(obb_params['center'],dtype=np.float64).reshape(3,1)\n",
    "    extent = np.array(obb_params['extent'],dtype=np.float64).reshape(3,1)\n",
    "    R = np.array(obb_params['R'],dtype=np.float64).reshape(3,3)\n",
    "    obb = o3d.geometry.OrientedBoundingBox(center=center,extent=extent,R=R)\n",
    "    obb_line_set = o3d.geometry.LineSet.create_from_oriented_bounding_box(obb)\n",
    "    obb_line_set.paint_uniform_color([1,0,0])\n",
    "    aab = pcd.get_axis_aligned_bounding_box()\n",
    "    aab_line_set = o3d.geometry.LineSet.create_from_axis_aligned_bounding_box(aab)\n",
    "    o3d.visualization.draw_geometries([pcd,obb_line_set,aab_line_set])"
   ]
  },
  {
   "cell_type": "code",
   "execution_count": null,
   "metadata": {},
   "outputs": [],
   "source": [
    "visualize(filenames[100],'shapenet5k')"
   ]
  },
  {
   "cell_type": "code",
   "execution_count": null,
   "metadata": {},
   "outputs": [],
   "source": [
    "visualize(filenames[90],'shapenet5k')"
   ]
  }
 ],
 "metadata": {
  "kernelspec": {
   "display_name": "Python 3",
   "language": "python",
   "name": "python3"
  },
  "language_info": {
   "codemirror_mode": {
    "name": "ipython",
    "version": 3
   },
   "file_extension": ".py",
   "mimetype": "text/x-python",
   "name": "python",
   "nbconvert_exporter": "python",
   "pygments_lexer": "ipython3",
   "version": "3.8.8"
  }
 },
 "nbformat": 4,
 "nbformat_minor": 2
}
